{
 "cells": [
  {
   "cell_type": "markdown",
   "id": "e23f51a2-88ed-4078-8717-f2d607b596db",
   "metadata": {},
   "source": [
    "#answer1\n",
    "In Python, there are two kinds of loop structures:\n",
    "for : Iterate a predefined number of times. This is also known as a definite iteration.\n",
    "while : Keep on iterating until the condition is false . This is known as an indefinite iteration."
   ]
  },
  {
   "cell_type": "code",
   "execution_count": 4,
   "id": "53405d26-69f4-43ff-8e76-9b7c75c181db",
   "metadata": {},
   "outputs": [
    {
     "name": "stdout",
     "output_type": "stream",
     "text": [
      "Enter the Value of n: \n"
     ]
    },
    {
     "name": "stdin",
     "output_type": "stream",
     "text": [
      " 10\n"
     ]
    },
    {
     "name": "stdout",
     "output_type": "stream",
     "text": [
      "\n",
      "Sum = 55\n"
     ]
    }
   ],
   "source": [
    "#answer-2\n",
    "print(\"Enter the Value of n: \")\n",
    "n = int(input())\n",
    "\n",
    "sum = 0\n",
    "i = 1\n",
    "while i<=n:\n",
    "  sum = sum+i\n",
    "  i = i+1\n",
    "\n",
    "print(\"\\nSum =\", sum)"
   ]
  },
  {
   "cell_type": "code",
   "execution_count": 6,
   "id": "3cc0cf03-81f7-465e-8da9-450f46fc3eec",
   "metadata": {},
   "outputs": [
    {
     "ename": "TypeError",
     "evalue": "'int' object is not iterable",
     "output_type": "error",
     "traceback": [
      "\u001b[0;31m---------------------------------------------------------------------------\u001b[0m",
      "\u001b[0;31mTypeError\u001b[0m                                 Traceback (most recent call last)",
      "Cell \u001b[0;32mIn[6], line 4\u001b[0m\n\u001b[1;32m      2\u001b[0m \u001b[38;5;28msum\u001b[39m\u001b[38;5;241m=\u001b[39m\u001b[38;5;241m0\u001b[39m\n\u001b[1;32m      3\u001b[0m i\u001b[38;5;241m=\u001b[39m\u001b[38;5;241m1\u001b[39m\n\u001b[0;32m----> 4\u001b[0m \u001b[38;5;28;01mfor\u001b[39;00m i \u001b[38;5;129;01min\u001b[39;00m \u001b[38;5;28msum\u001b[39m:\n\u001b[1;32m      5\u001b[0m     \u001b[38;5;28msum\u001b[39m\u001b[38;5;241m=\u001b[39m\u001b[38;5;28msum\u001b[39m\u001b[38;5;241m+\u001b[39mi\n\u001b[1;32m      6\u001b[0m     i\u001b[38;5;241m=\u001b[39mi\u001b[38;5;241m+\u001b[39m\u001b[38;5;241m1\u001b[39m\n",
      "\u001b[0;31mTypeError\u001b[0m: 'int' object is not iterable"
     ]
    }
   ],
   "source": [
    "n=10\n",
    "sum=0\n",
    "i=1\n",
    "for i in :\n",
    "    sum=sum+i\n",
    "    i=i+1\n",
    "print(\"Sum is:\", sum)    "
   ]
  },
  {
   "cell_type": "code",
   "execution_count": null,
   "id": "09125a2e-483a-4879-beca-c44ae3222895",
   "metadata": {},
   "outputs": [],
   "source": []
  }
 ],
 "metadata": {
  "kernelspec": {
   "display_name": "Python 3 (ipykernel)",
   "language": "python",
   "name": "python3"
  },
  "language_info": {
   "codemirror_mode": {
    "name": "ipython",
    "version": 3
   },
   "file_extension": ".py",
   "mimetype": "text/x-python",
   "name": "python",
   "nbconvert_exporter": "python",
   "pygments_lexer": "ipython3",
   "version": "3.10.8"
  }
 },
 "nbformat": 4,
 "nbformat_minor": 5
}
